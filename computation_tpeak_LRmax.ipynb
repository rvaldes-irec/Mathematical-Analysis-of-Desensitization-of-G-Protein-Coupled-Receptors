{
 "cells": [
  {
   "cell_type": "markdown",
   "metadata": {},
   "source": [
    "## Import Libraries"
   ]
  },
  {
   "cell_type": "code",
   "execution_count": 6,
   "metadata": {},
   "outputs": [],
   "source": [
    "import numpy as np\n",
    "from math import exp"
   ]
  },
  {
   "cell_type": "code",
   "execution_count": null,
   "metadata": {},
   "outputs": [],
   "source": []
  },
  {
   "cell_type": "code",
   "execution_count": 14,
   "metadata": {},
   "outputs": [],
   "source": [
    "def phi2(t, k1, k_1, k_ds, R, L):\n",
    "    b = k_1\n",
    "    a = k1*L\n",
    "    c = k_ds\n",
    "    alpha = ((a-c)**2 +b**2 + 2*a*b + 2*b*c)**0.5 \n",
    "    omegaminus = -a+b+c-alpha\n",
    "    omegaplus = - a+b+c+alpha\n",
    "    lambdaplus = -0.5*(a+b+c-alpha)\n",
    "    lambdaminus = -0.5*(a+b+c+alpha)\n",
    "\n",
    "    return -R/(4*b*alpha)*(omegaplus*omegaminus*(exp(lambdaplus*t)-exp(lambdaminus*t)))\n",
    "\n",
    "\n",
    "def phi2p(t,k1,k_1,k_ds,R,L):\n",
    "    b = k_1\n",
    "    a = k1*L\n",
    "    c = k_ds\n",
    "    alpha = ((a-c)**2 +b**2 + 2*a*b + 2*b*c)**0.5 \n",
    "    omegaminus = -a+b+c-alpha\n",
    "    omegaplus = - a+b+c+alpha\n",
    "    lambdaplus = -0.5*(a+b+c-alpha)\n",
    "    lambdaminus = -0.5*(a+b+c+alpha)\n",
    "    \n",
    "    return -R/(4*b*alpha)*(omegaplus*omegaminus*(exp(lambdaplus*t)*lambdaplus-exp(lambdaminus*t)*lambdaminus))\n",
    "\n",
    "def phi2pp(t,k1,k_1,k_ds,R,L):\n",
    "    b = k_1\n",
    "    a = k1*L\n",
    "    c = k_ds\n",
    "    alpha = ((a-c)**2 +b**2 + 2*a*b + 2*b*c)**0.5 \n",
    "    omegaminus = -a+b+c-alpha\n",
    "    omegaplus = - a+b+c+alpha\n",
    "    lambdaplus = -0.5*(a+b+c-alpha)\n",
    "    lambdaminus = -0.5*(a+b+c+alpha)\n",
    "    \n",
    "    return -R/(4*b*alpha)*(omegaplus*omegaminus*(exp(lambdaplus*t)*lambdaplus**2-exp(lambdaminus*t)*lambdaminus**2))\n",
    "\n",
    "\n",
    "def newton(k1, k_1, k_ds, R, L, t0, tol):\n",
    "    \n",
    "    t1 = t0\n",
    "    count = 0\n",
    "    \n",
    "    while count<100000:\n",
    "        \n",
    "        count = count+1\n",
    "        t0 = t1\n",
    "        \n",
    "        gp= phi2p(t0, k1, k_1, k_ds, R, L)\n",
    "        gpp = phi2pp(t0, k1, k_1, k_ds, R, L)\n",
    "        \n",
    "        t1 = t0 - gp/gpp\n",
    "        dist = abs(t1-t0)\n",
    "\n",
    "        try:\n",
    "            if abs(phi2p(t1, k1, k_1, k_ds, R, L)) < tol:\n",
    "                break\n",
    "        except:\n",
    "            print(\"exception\")\n",
    "            return -9\n",
    "            \n",
    "    return t1        "
   ]
  },
  {
   "cell_type": "markdown",
   "metadata": {},
   "source": [
    "## Define parameters"
   ]
  },
  {
   "cell_type": "code",
   "execution_count": 36,
   "metadata": {},
   "outputs": [],
   "source": [
    "R = 10**(-9)\n",
    "L = 310*10**(-9)\n",
    "k1 = 4.6*10**7\n",
    "k_1 = 0.06\n",
    "k_ds = 0.15\n",
    "list_k_ds=[]\n",
    "list_t12=[]\n",
    "lr_max = []"
   ]
  },
  {
   "cell_type": "code",
   "execution_count": 37,
   "metadata": {},
   "outputs": [],
   "source": [
    "t_peak = newton(k1=k1,k_1=k_1,k_ds=k_ds,R=R,L=L,t0=0,hatphi2=R/2, tol=10**(-20))\n",
    "LR_max = phi2(t_peak, k1, k_1, k_ds, R, L)"
   ]
  },
  {
   "cell_type": "code",
   "execution_count": 1,
   "metadata": {},
   "outputs": [
    {
     "ename": "NameError",
     "evalue": "name 't_peak' is not defined",
     "output_type": "error",
     "traceback": [
      "\u001b[1;31m---------------------------------------------------------------------------\u001b[0m",
      "\u001b[1;31mNameError\u001b[0m                                 Traceback (most recent call last)",
      "\u001b[1;32m<ipython-input-1-1bb93d5d845f>\u001b[0m in \u001b[0;36m<module>\u001b[1;34m\u001b[0m\n\u001b[1;32m----> 1\u001b[1;33m \u001b[0mprint\u001b[0m\u001b[1;33m(\u001b[0m\u001b[0mt_peak\u001b[0m\u001b[1;33m)\u001b[0m\u001b[1;33m\u001b[0m\u001b[1;33m\u001b[0m\u001b[0m\n\u001b[0m",
      "\u001b[1;31mNameError\u001b[0m: name 't_peak' is not defined"
     ]
    }
   ],
   "source": [
    "print(t_peak)"
   ]
  },
  {
   "cell_type": "code",
   "execution_count": null,
   "metadata": {},
   "outputs": [],
   "source": [
    "print(LR_max)"
   ]
  }
 ],
 "metadata": {
  "kernelspec": {
   "display_name": "Python 3",
   "language": "python",
   "name": "python3"
  },
  "language_info": {
   "codemirror_mode": {
    "name": "ipython",
    "version": 3
   },
   "file_extension": ".py",
   "mimetype": "text/x-python",
   "name": "python",
   "nbconvert_exporter": "python",
   "pygments_lexer": "ipython3",
   "version": "3.7.6"
  }
 },
 "nbformat": 4,
 "nbformat_minor": 4
}
